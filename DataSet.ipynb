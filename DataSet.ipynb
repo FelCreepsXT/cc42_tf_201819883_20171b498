{
 "cells": [
  {
   "cell_type": "markdown",
   "id": "bf1be606",
   "metadata": {},
   "source": [
    "# Generador del Dataset"
   ]
  },
  {
   "cell_type": "markdown",
   "id": "907cc8cd",
   "metadata": {},
   "source": [
    "## Librerias\n",
    "Estas librerias seran utilizadas en el transcurso del trabajo, ya que nos son de demasiada utilidad"
   ]
  },
  {
   "cell_type": "code",
   "execution_count": 211,
   "id": "2c225e54",
   "metadata": {},
   "outputs": [],
   "source": [
    "import numpy as np\n",
    "import matplotlib.pyplot as plt\n",
    "import random"
   ]
  },
  {
   "cell_type": "markdown",
   "id": "e53205eb",
   "metadata": {},
   "source": [
    "## InitMap\n",
    "Con esta funcion nosotros podremos realizar las siguientes configuracion para la asociacion de los nodos y posicion de cada nodo. Los datos a ingresar son la cantidad de cuadras con su anchura entre x e y. Además, debe ingresar las cantidad de puntos de distribucion y puntos de entrega. Teniendo en cuenta que las calles son rectangulares podemos definir que siempre debemos tener la misma anchura para una columna y fila. Por el momento solo genera las posiciones en su respectiva posicion. Posteriormente se asociada el tiempo y costos."
   ]
  },
  {
   "cell_type": "code",
   "execution_count": 222,
   "id": "bd6c132c",
   "metadata": {},
   "outputs": [],
   "source": [
    "def initMap(width, height, pointDist, pointEntre):\n",
    "    \n",
    "    \n",
    "    \n",
    "    Bwidth = np.random.randint(40,70,width)\n",
    "    Bheight = np.random.randint(40,80,height)\n",
    "    \n",
    "    Map = []        \n",
    "    distribudor = []\n",
    "    entrega = []\n",
    "    \n",
    "    dic = {}\n",
    "    \n",
    "    di = pointDist\n",
    "    en = pointEntre\n",
    "    reduce = di + en\n",
    "    \n",
    "    if reduce >= width*height:\n",
    "        return Map, distribudor, entrega   \n",
    "    \n",
    "    for i in range(width):\n",
    "        tem = []            \n",
    "        for j in range(height):\n",
    "            n = random.randint(0,30)\n",
    "            #aca deberia de ser el mapa pero el grafo apuntando respectivamente a su pos\n",
    "                #plt.scatter(sum(Bwidth[:i]), sum(Bheight[:j]), color='green')\n",
    "            tem.append([sum(Bwidth[:i]),sum(Bwidth[:j]), 0])\n",
    "        Map.append(tem[:])\n",
    "    \n",
    "    \n",
    "    while reduce != 0:\n",
    "        \n",
    "        xx = random.randint(0,width-1)\n",
    "        yy = random.randint(0,height-1)\n",
    "        new = (str(xx)+str(yy))      \n",
    "                \n",
    "        if new not in dic:\n",
    "            dic[new] = 1\n",
    "            if en == 0 and di == 0:\n",
    "                reduce = reduce -1\n",
    "            elif en == 0:\n",
    "                #Pertenece solamente a un distribudor\n",
    "                Map[xx][yy][2] = 1\n",
    "                distribudor.append([Map[xx][yy][0],Map[xx][yy][1]])\n",
    "                plt.scatter(sum(Bwidth[:xx]), sum(Bheight[:yy]), color='blue')\n",
    "                di = di - 1\n",
    "                reduce = reduce -1\n",
    "            elif di == 0:\n",
    "                #Pertenece solamente a los almacenes\n",
    "                Map[xx][yy][2] = 2\n",
    "                entrega.append([Map[xx][yy][0],Map[xx][yy][1]])\n",
    "                plt.scatter(sum(Bwidth[:xx]), sum(Bheight[:yy]), color='red')\n",
    "                en = en - 1\n",
    "                reduce = reduce -1\n",
    "            else:\n",
    "                ops = random.randint(0,1)\n",
    "                if ops == 0:\n",
    "                    #Pertenece solamente a un distribudor\n",
    "                    Map[xx][yy][2] = 1\n",
    "                    distribudor.append([Map[xx][yy][0],Map[xx][yy][1]])\n",
    "                    plt.scatter(sum(Bwidth[:xx]), sum(Bheight[:yy]), color='blue')\n",
    "                    di = di - 1\n",
    "                    reduce = reduce -1\n",
    "                elif ops == 1:\n",
    "                    #Pertenece solamente a los almacenes\n",
    "                    Map[xx][yy][2] = 2\n",
    "                    entrega.append([Map[xx][yy][0],Map[xx][yy][1]])\n",
    "                    plt.scatter(sum(Bwidth[:xx]), sum(Bheight[:yy]), color='red')\n",
    "                    en = en - 1\n",
    "                    reduce = reduce -1\n",
    "    \n",
    "    #print(Map)\n",
    "    return Map, distribudor, entrega"
   ]
  },
  {
   "cell_type": "markdown",
   "id": "c3fad92c",
   "metadata": {},
   "source": [
    "## Inicializacion de la funcion\n",
    "Como podemos observar al ejecutar la funcion nos retorna la imagen de nuestros caminos si bien por el momento no se visualiza de manera correcta se solucionara con el transcurso del curso. Cuando utilizamos estas funcion las variables toman los valores que necesitaremos para crear nuestro **csv**."
   ]
  },
  {
   "cell_type": "code",
   "execution_count": 223,
   "id": "5a96e594",
   "metadata": {},
   "outputs": [
    {
     "data": {
      "image/png": "[encoded data removed]",
      "text/plain": [
       "<Figure size 432x288 with 1 Axes>"
      ]
     },
     "metadata": {
      "needs_background": "light"
     },
     "output_type": "display_data"
    }
   ],
   "source": [
    "matrix, geneDistr, geneEntre = initMap(400,400, 100, 2500)\n",
    "#print(geneDistr)\n",
    "#print(matrix)\n",
    "#print(len(matrix))"
   ]
  },
  {
   "cell_type": "markdown",
   "id": "f5bcaf5b",
   "metadata": {},
   "source": [
    "## Elaboracion de los almacenes.csv\n",
    "Se Guardamos los datos que nos arrojo el dataset para poder guardarlo en un formato csv"
   ]
  },
  {
   "cell_type": "code",
   "execution_count": 224,
   "id": "17e40197",
   "metadata": {},
   "outputs": [],
   "source": [
    "distribuidor = np.array(geneDistr)\n",
    "np.savetxt('almacenes.csv', almacenes, fmt=\"%i\", delimiter=\",\", header=\"x,y\", comments=\"\")"
   ]
  },
  {
   "cell_type": "markdown",
   "id": "6846a28f",
   "metadata": {},
   "source": [
    "## Elaboracion de los puntos_entrega.csv\n",
    "Se Guardamos los datos que nos arrojo el dataset para poder guardarlo en un formato csv"
   ]
  },
  {
   "cell_type": "code",
   "execution_count": 226,
   "id": "ef7fbf1c",
   "metadata": {},
   "outputs": [],
   "source": [
    "almacen = np.array(geneEntre)\n",
    "np.savetxt('puntos_entrega.csv', almacenes, fmt=\"%i\", delimiter=\",\", header=\"x,y\", comments=\"\")"
   ]
  },
  {
   "cell_type": "code",
   "execution_count": null,
   "id": "e3d11c42",
   "metadata": {},
   "outputs": [],
   "source": []
  }
 ],
 "metadata": {
  "kernelspec": {
   "display_name": "Python 3",
   "language": "python",
   "name": "python3"
  },
  "language_info": {
   "codemirror_mode": {
    "name": "ipython",
    "version": 3
   },
   "file_extension": ".py",
   "mimetype": "text/x-python",
   "name": "python",
   "nbconvert_exporter": "python",
   "pygments_lexer": "ipython3",
   "version": "3.8.8"
  }
 },
 "nbformat": 4,
 "nbformat_minor": 5
}
