{
 "cells": [
  {
   "cell_type": "code",
   "execution_count": null,
   "id": "27ff8357",
   "metadata": {},
   "outputs": [],
   "source": [
    "def mat(G):\n",
    "    \n",
    "    stack = []\n",
    "    \n",
    "    for i in range(len(G)):        \n",
    "        for j in range(len(G[0])):\n",
    "            tem = []\n",
    "            if j+1 != len(G[0]) and i % 2 == 0:\n",
    "                tem.append([(len(G[0])*(i))+j+1, G[i][j+1][1] , G[i][j+1][0], G[i][j+1][2]])\n",
    "            elif j != 0 and i % 2 != 0:\n",
    "                tem.append([(len(G[0])*(i))+j-1, G[i][j-1][1] , G[i][j-1][0], G[i][j-1][2]])\n",
    "                    \n",
    "            if i+1 != len(G) and j % 2 != 0:\n",
    "                tem.append([j+(len(G[0])*(i+1)), G[i+1][j][1] , G[i+1][j][0], G[i+1][j][2]])\n",
    "            elif i != 0 and j % 2 == 0:\n",
    "                tem.append([j+(len(G[0])*(i-1)), G[i-1][j][1] , G[i-1][j][0], G[i-1][j][2]])\n",
    "            stack.append(tem)\n",
    "    return stack"
   ]
  }
 ],
 "metadata": {
  "kernelspec": {
   "display_name": "Python 3",
   "language": "python",
   "name": "python3"
  },
  "language_info": {
   "codemirror_mode": {
    "name": "ipython",
    "version": 3
   },
   "file_extension": ".py",
   "mimetype": "text/x-python",
   "name": "python",
   "nbconvert_exporter": "python",
   "pygments_lexer": "ipython3",
   "version": "3.8.8"
  }
 },
 "nbformat": 4,
 "nbformat_minor": 5
}
