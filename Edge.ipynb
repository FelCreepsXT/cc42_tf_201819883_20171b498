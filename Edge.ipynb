{
 "cells": [
  {
   "cell_type": "code",
   "execution_count": null,
   "id": "d1fe9128",
   "metadata": {},
   "outputs": [],
   "source": [
    "def convertEdge(M):\n",
    "    \n",
    "    graph = []\n",
    "    \n",
    "    w = len(M)\n",
    "    h = len(M[0])\n",
    "    node = 0\n",
    "    for i in range(w):\n",
    "        for j in range(h):\n",
    "            y, x, t = M[i][j]\n",
    "            graph.append([node,x, y, t])\n",
    "            node += 1\n",
    "    \n",
    "    return np.array(graph)"
   ]
  }
 ],
 "metadata": {
  "kernelspec": {
   "display_name": "Python 3",
   "language": "python",
   "name": "python3"
  },
  "language_info": {
   "codemirror_mode": {
    "name": "ipython",
    "version": 3
   },
   "file_extension": ".py",
   "mimetype": "text/x-python",
   "name": "python",
   "nbconvert_exporter": "python",
   "pygments_lexer": "ipython3",
   "version": "3.8.8"
  }
 },
 "nbformat": 4,
 "nbformat_minor": 5
}
